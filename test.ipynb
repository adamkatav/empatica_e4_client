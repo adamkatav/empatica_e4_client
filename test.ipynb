{
 "cells": [
  {
   "cell_type": "code",
   "execution_count": null,
   "metadata": {},
   "outputs": [],
   "source": [
    "import zmq #pip install pyzmq\n",
    "import json\n",
    "from typing import NamedTuple\n",
    "import matplotlib.pyplot as plt\n",
    "import numpy as np\n",
    "from scipy.signal import butter, filtfilt\n",
    "from scipy.fft import fft, fftfreq\n",
    "SAMPLING_RATE = 64 #Hz"
   ]
  },
  {
   "cell_type": "code",
   "execution_count": null,
   "metadata": {},
   "outputs": [],
   "source": [
    "context = zmq.Context()\n",
    "socket = context.socket(zmq.SUB)\n",
    "socket.setsockopt(zmq.SUBSCRIBE, b'bvp')\n",
    "socket.connect(\"tcp://192.168.1.179:5050\")\n"
   ]
  },
  {
   "cell_type": "code",
   "execution_count": null,
   "metadata": {},
   "outputs": [],
   "source": [
    "bvp = []\n",
    "# while True:\n",
    "for _ in range(2048):\n",
    "    #  Wait for next request from client\n",
    "    # msg = json.loads(socket.recv())\n",
    "    # sample = Sample(**msg)\n",
    "    # print(f'Received {sample=}')\n",
    "    msg = json.loads(socket.recv().decode().split(' ')[1])\n",
    "    bvp.append(float(msg['bvp']))\n",
    "    print(f'Received {msg=}')"
   ]
  },
  {
   "cell_type": "code",
   "execution_count": null,
   "metadata": {},
   "outputs": [],
   "source": [
    "bvp = np.array(bvp)\n",
    "bvp = bvp.clip(-1.7,1.7)"
   ]
  },
  {
   "cell_type": "code",
   "execution_count": null,
   "metadata": {},
   "outputs": [],
   "source": [
    "def butter_lowpass(cutoff, fs, order=5):\n",
    "    nyquist = 0.5 * fs\n",
    "    normal_cutoff = cutoff / nyquist\n",
    "    b, a = butter(order, normal_cutoff, btype='low', analog=False)\n",
    "    return b, a\n",
    "\n",
    "def apply_lowpass_filter(data, cutoff_freq, fs, order=5):\n",
    "    b, a = butter_lowpass(cutoff_freq, fs, order=order)\n",
    "    filtered_data = filtfilt(b, a, data)\n",
    "    return filtered_data\n",
    "\n",
    "# Applying low-pass filter\n",
    "cutoff_freq = 3  # Cutoff frequency in Hz\n",
    "filtered_data = apply_lowpass_filter(bvp, cutoff_freq, SAMPLING_RATE)\n",
    "\n",
    "# Plotting original and filtered signals\n",
    "import matplotlib.pyplot as plt\n",
    "\n",
    "plt.figure()\n",
    "# plt.plot(bvp, 'b-', label='Original Signal')\n",
    "plt.plot(filtered_data, 'r-', label='Filtered Signal')\n",
    "plt.xlabel('Time [s]')\n",
    "plt.ylabel('Amplitude')\n",
    "plt.title('Low-Pass Filtered Signal at 128 Hz Cutoff')\n",
    "plt.legend()\n",
    "plt.grid()\n",
    "plt.show()\n"
   ]
  },
  {
   "cell_type": "code",
   "execution_count": null,
   "metadata": {},
   "outputs": [],
   "source": [
    "# FFT\n",
    "n = len(bvp)\n",
    "frequencies = fftfreq(n, 1/SAMPLING_RATE)\n",
    "fft_values = fft(bvp)\n",
    "plt.plot(frequencies[:n//2], np.abs(fft_values[:n//2]))\n",
    "plt.xlabel('Frequency [Hz]')\n",
    "plt.ylabel('Amplitude')\n",
    "plt.title('FFT of Original Signal')\n",
    "plt.grid()"
   ]
  },
  {
   "cell_type": "code",
   "execution_count": null,
   "metadata": {},
   "outputs": [],
   "source": [
    "frequencies[:n//2][np.abs(fft_values[:n//2]).argmax()]"
   ]
  }
 ],
 "metadata": {
  "kernelspec": {
   "display_name": "env",
   "language": "python",
   "name": "python3"
  },
  "language_info": {
   "codemirror_mode": {
    "name": "ipython",
    "version": 3
   },
   "file_extension": ".py",
   "mimetype": "text/x-python",
   "name": "python",
   "nbconvert_exporter": "python",
   "pygments_lexer": "ipython3",
   "version": "3.11.2"
  }
 },
 "nbformat": 4,
 "nbformat_minor": 2
}
